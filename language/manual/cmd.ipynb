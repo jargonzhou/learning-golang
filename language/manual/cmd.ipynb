{
 "cells": [
  {
   "cell_type": "markdown",
   "id": "a3b11da1",
   "metadata": {},
   "source": [
    "# Command"
   ]
  },
  {
   "cell_type": "markdown",
   "id": "b88dfe75",
   "metadata": {},
   "source": [
    "# go"
   ]
  },
  {
   "cell_type": "code",
   "execution_count": 1,
   "id": "03a1da28",
   "metadata": {},
   "outputs": [
    {
     "name": "stderr",
     "output_type": "stream",
     "text": [
      "Go is a tool for managing Go source code.\n",
      "\n",
      "Usage:\n",
      "\n",
      "\tgo <command> [arguments]\n",
      "\n",
      "The commands are:\n",
      "\n",
      "\tbug         start a bug report\n",
      "\tbuild       compile packages and dependencies\n",
      "\tclean       remove object files and cached files\n",
      "\tdoc         show documentation for package or symbol\n",
      "\tenv         print Go environment information\n",
      "\tfix         update packages to use new APIs\n",
      "\tfmt         gofmt (reformat) package sources\n",
      "\tgenerate    generate Go files by processing source\n",
      "\tget         add dependencies to current module and install them\n",
      "\tinstall     compile and install packages and dependencies\n",
      "\tlist        list packages or modules\n",
      "\tmod         module maintenance\n",
      "\twork        workspace maintenance\n",
      "\trun         compile and run Go program\n",
      "\ttelemetry   manage telemetry data and settings\n",
      "\ttest        test packages\n",
      "\ttool        run specified go tool\n",
      "\tversion     print Go version\n",
      "\tvet         report likely mistakes in packages\n",
      "\n",
      "Use \"go help <command>\" for more information about a command.\n",
      "\n",
      "Additional help topics:\n",
      "\n",
      "\tbuildconstraint build constraints\n",
      "\tbuildjson       build -json encoding\n",
      "\tbuildmode       build modes\n",
      "\tc               calling between Go and C\n",
      "\tcache           build and test caching\n",
      "\tenvironment     environment variables\n",
      "\tfiletype        file types\n",
      "\tgoauth          GOAUTH environment variable\n",
      "\tgo.mod          the go.mod file\n",
      "\tgopath          GOPATH environment variable\n",
      "\tgoproxy         module proxy protocol\n",
      "\timportpath      import path syntax\n",
      "\tmodules         modules, module versions, and more\n",
      "\tmodule-auth     module authentication using go.sum\n",
      "\tpackages        package lists and patterns\n",
      "\tprivate         configuration for downloading non-public code\n",
      "\ttestflag        testing flags\n",
      "\ttestfunc        testing functions\n",
      "\tvcs             controlling version control with GOVCS\n",
      "\n",
      "Use \"go help <topic>\" for more information about that topic.\n",
      "\n"
     ]
    }
   ],
   "source": [
    "!go"
   ]
  },
  {
   "cell_type": "markdown",
   "id": "7e848cd9",
   "metadata": {},
   "source": [
    "## go get"
   ]
  },
  {
   "cell_type": "code",
   "execution_count": 6,
   "id": "8664ca93",
   "metadata": {},
   "outputs": [
    {
     "name": "stdout",
     "output_type": "stream",
     "text": [
      "usage: go get [-t] [-u] [-tool] [build flags] [packages]\n",
      "\n",
      "Get resolves its command-line arguments to packages at specific module versions,\n",
      "updates go.mod to require those versions, and downloads source code into the\n",
      "module cache.\n",
      "\n",
      "To add a dependency for a package or upgrade it to its latest version:\n",
      "\n",
      "\tgo get example.com/pkg\n",
      "\n",
      "To upgrade or downgrade a package to a specific version:\n",
      "\n",
      "\tgo get example.com/pkg@v1.2.3\n",
      "\n",
      "To remove a dependency on a module and downgrade modules that require it:\n",
      "\n",
      "\tgo get example.com/mod@none\n",
      "\n",
      "To upgrade the minimum required Go version to the latest released Go version:\n",
      "\n",
      "\tgo get go@latest\n",
      "\n",
      "To upgrade the Go toolchain to the latest patch release of the current Go toolchain:\n",
      "\n",
      "\tgo get toolchain@patch\n",
      "\n",
      "See https://golang.org/ref/mod#go-get for details.\n",
      "\n",
      "In earlier versions of Go, 'go get' was used to build and install packages.\n",
      "Now, 'go get' is dedicated to adjusting dependencies in go.mod. 'go install'\n",
      "may be used to build and install commands instead. When a version is specified,\n",
      "'go install' runs in module-aware mode and ignores the go.mod file in the\n",
      "current directory. For example:\n",
      "\n",
      "\tgo install example.com/pkg@v1.2.3\n",
      "\tgo install example.com/pkg@latest\n",
      "\n",
      "See 'go help install' or https://golang.org/ref/mod#go-install for details.\n",
      "\n",
      "'go get' accepts the following flags.\n",
      "\n",
      "The -t flag instructs get to consider modules needed to build tests of\n",
      "packages specified on the command line.\n",
      "\n",
      "The -u flag instructs get to update modules providing dependencies\n",
      "of packages named on the command line to use newer minor or patch\n",
      "releases when available.\n",
      "\n",
      "The -u=patch flag (not -u patch) also instructs get to update dependencies,\n",
      "but changes the default to select patch releases.\n",
      "\n",
      "When the -t and -u flags are used together, get will update\n",
      "test dependencies as well.\n",
      "\n",
      "The -tool flag instructs go to add a matching tool line to go.mod for each\n",
      "listed package. If -tool is used with @none, the line will be removed.\n",
      "\n",
      "The -x flag prints commands as they are executed. This is useful for\n",
      "debugging version control commands when a module is downloaded directly\n",
      "from a repository.\n",
      "\n",
      "For more about build flags, see 'go help build'.\n",
      "\n",
      "For more about modules, see https://golang.org/ref/mod.\n",
      "\n",
      "For more about using 'go get' to update the minimum Go version and\n",
      "suggested Go toolchain, see https://go.dev/doc/toolchain.\n",
      "\n",
      "For more about specifying packages, see 'go help packages'.\n",
      "\n",
      "See also: go build, go install, go clean, go mod.\n"
     ]
    }
   ],
   "source": [
    "!go help get"
   ]
  },
  {
   "cell_type": "markdown",
   "id": "e19104be",
   "metadata": {},
   "source": [
    "## go install"
   ]
  },
  {
   "cell_type": "code",
   "execution_count": 5,
   "id": "49b345ad",
   "metadata": {},
   "outputs": [
    {
     "name": "stdout",
     "output_type": "stream",
     "text": [
      "usage: go install [build flags] [packages]\n",
      "\n",
      "Install compiles and installs the packages named by the import paths.\n",
      "\n",
      "Executables are installed in the directory named by the GOBIN environment\n",
      "variable, which defaults to $GOPATH/bin or $HOME/go/bin if the GOPATH\n",
      "environment variable is not set. Executables in $GOROOT\n",
      "are installed in $GOROOT/bin or $GOTOOLDIR instead of $GOBIN.\n",
      "\n",
      "If the arguments have version suffixes (like @latest or @v1.0.0), \"go install\"\n",
      "builds packages in module-aware mode, ignoring the go.mod file in the current\n",
      "directory or any parent directory, if there is one. This is useful for\n",
      "installing executables without affecting the dependencies of the main module.\n",
      "To eliminate ambiguity about which module versions are used in the build, the\n",
      "arguments must satisfy the following constraints:\n",
      "\n",
      "- Arguments must be package paths or package patterns (with \"...\" wildcards).\n",
      "They must not be standard packages (like fmt), meta-patterns (std, cmd,\n",
      "all), or relative or absolute file paths.\n",
      "\n",
      "- All arguments must have the same version suffix. Different queries are not\n",
      "allowed, even if they refer to the same version.\n",
      "\n",
      "- All arguments must refer to packages in the same module at the same version.\n",
      "\n",
      "- Package path arguments must refer to main packages. Pattern arguments\n",
      "will only match main packages.\n",
      "\n",
      "- No module is considered the \"main\" module. If the module containing\n",
      "packages named on the command line has a go.mod file, it must not contain\n",
      "directives (replace and exclude) that would cause it to be interpreted\n",
      "differently than if it were the main module. The module must not require\n",
      "a higher version of itself.\n",
      "\n",
      "- Vendor directories are not used in any module. (Vendor directories are not\n",
      "included in the module zip files downloaded by 'go install'.)\n",
      "\n",
      "If the arguments don't have version suffixes, \"go install\" may run in\n",
      "module-aware mode or GOPATH mode, depending on the GO111MODULE environment\n",
      "variable and the presence of a go.mod file. See 'go help modules' for details.\n",
      "If module-aware mode is enabled, \"go install\" runs in the context of the main\n",
      "module.\n",
      "\n",
      "When module-aware mode is disabled, non-main packages are installed in the\n",
      "directory $GOPATH/pkg/$GOOS_$GOARCH. When module-aware mode is enabled,\n",
      "non-main packages are built and cached but not installed.\n",
      "\n",
      "Before Go 1.20, the standard library was installed to\n",
      "$GOROOT/pkg/$GOOS_$GOARCH.\n",
      "Starting in Go 1.20, the standard library is built and cached but not installed.\n",
      "Setting GODEBUG=installgoroot=all restores the use of\n",
      "$GOROOT/pkg/$GOOS_$GOARCH.\n",
      "\n",
      "For more about build flags, see 'go help build'.\n",
      "\n",
      "For more about specifying packages, see 'go help packages'.\n",
      "\n",
      "See also: go build, go get, go clean.\n"
     ]
    }
   ],
   "source": [
    "!go help install"
   ]
  },
  {
   "cell_type": "markdown",
   "id": "8fe653fa",
   "metadata": {},
   "source": [
    "## go mod"
   ]
  },
  {
   "cell_type": "code",
   "execution_count": 7,
   "id": "5557f522",
   "metadata": {},
   "outputs": [
    {
     "name": "stdout",
     "output_type": "stream",
     "text": [
      "Go mod provides access to operations on modules.\n",
      "\n",
      "Note that support for modules is built into all the go commands,\n",
      "not just 'go mod'. For example, day-to-day adding, removing, upgrading,\n",
      "and downgrading of dependencies should be done using 'go get'.\n",
      "See 'go help modules' for an overview of module functionality.\n",
      "\n",
      "Usage:\n",
      "\n",
      "\tgo mod <command> [arguments]\n",
      "\n",
      "The commands are:\n",
      "\n",
      "\tdownload    download modules to local cache\n",
      "\tedit        edit go.mod from tools or scripts\n",
      "\tgraph       print module requirement graph\n",
      "\tinit        initialize new module in current directory\n",
      "\ttidy        add missing and remove unused modules\n",
      "\tvendor      make vendored copy of dependencies\n",
      "\tverify      verify dependencies have expected content\n",
      "\twhy         explain why packages or modules are needed\n",
      "\n",
      "Use \"go help mod <command>\" for more information about a command.\n",
      "\n"
     ]
    }
   ],
   "source": [
    "!go help mod"
   ]
  }
 ],
 "metadata": {
  "kernelspec": {
   "display_name": "base",
   "language": "python",
   "name": "python3"
  },
  "language_info": {
   "codemirror_mode": {
    "name": "ipython",
    "version": 3
   },
   "file_extension": ".py",
   "mimetype": "text/x-python",
   "name": "python",
   "nbconvert_exporter": "python",
   "pygments_lexer": "ipython3",
   "version": "3.12.3"
  }
 },
 "nbformat": 4,
 "nbformat_minor": 5
}
